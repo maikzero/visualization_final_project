{
 "cells": [
  {
   "cell_type": "code",
   "execution_count": 16,
   "id": "e6ab2882-21b3-4c98-94a5-b3ca48c55629",
   "metadata": {},
   "outputs": [
    {
     "name": "stdout",
     "output_type": "stream",
     "text": [
      "Coordinates for 'Avenue of the Americas and Canal Street, New York': Address not found\n"
     ]
    }
   ],
   "source": [
    "from geopy.geocoders import Nominatim\n",
    "from geopy.exc import GeocoderTimedOut\n",
    "\n",
    "def get_coordinates(address):\n",
    "    # geolocator = Nominatim(user_agent=\"geoapiExercises\")  # User agent name can be anything\n",
    "    geolocator = Nominatim(user_agent=\"km4886@nyu.edu\")\n",
    "\n",
    "    try:\n",
    "        location = geolocator.geocode(address)\n",
    "        if location:\n",
    "            return (location.latitude, location.longitude)\n",
    "        else:\n",
    "            return \"Address not found\"\n",
    "    except GeocoderTimedOut:\n",
    "        return \"Geocoder service timed out\"\n",
    "\n",
    "# Example usage\n",
    "address = \"Avenue of the Americas and Canal Street, New York\"\n",
    "coordinates = get_coordinates(address)\n",
    "print(f\"Coordinates for '{address}': {coordinates}\")\n"
   ]
  },
  {
   "cell_type": "code",
   "execution_count": 24,
   "id": "d5317c28-a57c-4a79-a2f2-ec94997baa6b",
   "metadata": {},
   "outputs": [
    {
     "name": "stdout",
     "output_type": "stream",
     "text": [
      "Processed: Avenue of the Americas and Canal Street, New York -> Coordinates: (None, None)\n"
     ]
    }
   ],
   "source": [
    "import pandas as pd\n",
    "from geopy.geocoders import Nominatim\n",
    "from geopy.exc import GeocoderTimedOut\n",
    "import time\n",
    "\n",
    "# Initialize the geolocator\n",
    "geolocator = Nominatim(user_agent=\"YourAppNameOrEmail\")\n",
    "\n",
    "# Function to try multiple formats for geocoding\n",
    "def get_coordinates_with_variations(address):\n",
    "    # Define address variations to try\n",
    "    address_variants = [\n",
    "        address,\n",
    "        address.split(',')[0],  # Just street\n",
    "        \" \".join(address.split(',')[:2]),  # Street + city\n",
    "        \" \".join(address.split(',')[:3]),  # Street + city + state if exists\n",
    "    ]\n",
    "\n",
    "    for variant in address_variants:\n",
    "        try:\n",
    "            location = geolocator.geocode(variant)\n",
    "            if location:\n",
    "                return (location.latitude, location.longitude)\n",
    "        except GeocoderTimedOut:\n",
    "            time.sleep(1)  # Avoid hitting rate limits\n",
    "    return (None, None)  # If all variants fail\n",
    "\n",
    "\n",
    "\n",
    "\n",
    "\n",
    "\n",
    "latitude, longitude = get_coordinates_with_variations(address)\n",
    "print(f\"Processed: {address} -> Coordinates: ({latitude}, {longitude})\")\n",
    "\n",
    "\n"
   ]
  },
  {
   "cell_type": "code",
   "execution_count": 71,
   "id": "d323302f-6490-4c5a-b995-3abae37ab43a",
   "metadata": {},
   "outputs": [
    {
     "name": "stdout",
     "output_type": "stream",
     "text": [
      "6th avenue and Canal Street\n",
      "avenue and Canal Street\n",
      "and Canal Street\n",
      "Processed: 6th avenue and Canal Street -> Coordinates: (57.171052525400256, -2.1242255755434036)\n",
      "LISPENARD ST\n",
      "Processed: LISPENARD ST -> Coordinates: (40.71961490050749, -74.00299362869194)\n"
     ]
    }
   ],
   "source": [
    "import pandas as pd\n",
    "from geopy.geocoders import Nominatim\n",
    "from geopy.exc import GeocoderTimedOut\n",
    "import time\n",
    "\n",
    "# Initialize the geolocator\n",
    "\n",
    "\n",
    "# Function to try removing one word at a time from the address\n",
    "def get_coordinates_simplified(address):\n",
    "    address_parts = address.split()\n",
    "    \n",
    "    # Try progressively shorter versions of the address\n",
    "    while address_parts:\n",
    "        simplified_address = \" \".join(address_parts)\n",
    "        print(simplified_address)\n",
    "        try:\n",
    "            location = geolocator.geocode(simplified_address)\n",
    "            if location:\n",
    "                return (location.latitude, location.longitude)\n",
    "        except GeocoderTimedOut:\n",
    "            time.sleep(1)  # Avoid hitting rate limits\n",
    "        \n",
    "        # Remove the last word from the address and retry\n",
    "        address_parts.pop(0)\n",
    "    \n",
    "    return (None, None)  # If all variations fail\n",
    "\n",
    "\n",
    "\n",
    "address1 = \"6th avenue and Canal Street\"\n",
    "address2 = \"\"\"LISPENARD ST\"\"\"\n",
    "\n",
    "latitude, longitude = get_coordinates_simplified(address1)\n",
    "print(f\"Processed: {address1} -> Coordinates: ({latitude}, {longitude})\")\n",
    "\n",
    "latitude, longitude = get_coordinates_simplified(address2)\n",
    "print(f\"Processed: {address2} -> Coordinates: ({latitude}, {longitude})\")\n"
   ]
  },
  {
   "cell_type": "code",
   "execution_count": 61,
   "id": "96b32735-bf70-460f-b1b7-4586a37a36ed",
   "metadata": {},
   "outputs": [
    {
     "name": "stdout",
     "output_type": "stream",
     "text": [
      "Coordinates for 'Avenue of the Americas and Canal St, New York, NY': (40.721772, -74.005264)\n"
     ]
    }
   ],
   "source": [
    "from opencage.geocoder import OpenCageGeocode\n",
    "\n",
    "def get_coordinates_opencage(address):\n",
    "    key = 'bb78731e266d4d94bf3238b09a3e49f3'  # Replace with your OpenCage API key\n",
    "    geocoder = OpenCageGeocode(key)\n",
    "    result = geocoder.geocode(address)\n",
    "    if result:\n",
    "        return (result[0]['geometry']['lat'], result[0]['geometry']['lng'])\n",
    "    else:\n",
    "        return \"Address not found\"\n",
    "\n",
    "address = \"Avenue of the Americas and Canal St, New York, NY\"\n",
    "coordinates = get_coordinates_opencage(address)\n",
    "print(f\"Coordinates for '{address}': {coordinates}\")\n"
   ]
  },
  {
   "cell_type": "code",
   "execution_count": 67,
   "id": "13c5a4b1-acbe-470b-8164-038d06f1ca13",
   "metadata": {},
   "outputs": [
    {
     "name": "stdout",
     "output_type": "stream",
     "text": [
      "Coordinates for 'AVENUE OF THE\n",
      "AMERICAS\n",
      "and\n",
      "LISPENARD ST': (1.0, 7.0)\n"
     ]
    }
   ],
   "source": [
    "address3 = \"\"\"AVENUE OF THE\n",
    "AMERICAS\n",
    "and\n",
    "LISPENARD ST\"\"\"\n",
    "coordinates = get_coordinates_opencage(address3)\n",
    "print(f\"Coordinates for '{address3}': {coordinates}\")"
   ]
  },
  {
   "cell_type": "code",
   "execution_count": 59,
   "id": "df151ba7-642d-4d59-893f-5fc9bab709a4",
   "metadata": {},
   "outputs": [
    {
     "name": "stdout",
     "output_type": "stream",
     "text": [
      "Collecting opencage\n",
      "  Downloading opencage-3.0.3-py3-none-any.whl.metadata (7.7 kB)\n",
      "Requirement already satisfied: Requests>=2.31.0 in c:\\users\\shiro\\anaconda3\\lib\\site-packages (from opencage) (2.32.3)\n",
      "Collecting backoff>=2.2.1 (from opencage)\n",
      "  Downloading backoff-2.2.1-py3-none-any.whl.metadata (14 kB)\n",
      "Requirement already satisfied: tqdm>=4.66.4 in c:\\users\\shiro\\anaconda3\\lib\\site-packages (from opencage) (4.66.5)\n",
      "Requirement already satisfied: certifi>=2024.07.04 in c:\\users\\shiro\\anaconda3\\lib\\site-packages (from opencage) (2024.8.30)\n",
      "Requirement already satisfied: aiohttp>=3.10.5 in c:\\users\\shiro\\anaconda3\\lib\\site-packages (from opencage) (3.10.5)\n",
      "Requirement already satisfied: aiohappyeyeballs>=2.3.0 in c:\\users\\shiro\\anaconda3\\lib\\site-packages (from aiohttp>=3.10.5->opencage) (2.4.0)\n",
      "Requirement already satisfied: aiosignal>=1.1.2 in c:\\users\\shiro\\anaconda3\\lib\\site-packages (from aiohttp>=3.10.5->opencage) (1.2.0)\n",
      "Requirement already satisfied: attrs>=17.3.0 in c:\\users\\shiro\\anaconda3\\lib\\site-packages (from aiohttp>=3.10.5->opencage) (23.1.0)\n",
      "Requirement already satisfied: frozenlist>=1.1.1 in c:\\users\\shiro\\anaconda3\\lib\\site-packages (from aiohttp>=3.10.5->opencage) (1.4.0)\n",
      "Requirement already satisfied: multidict<7.0,>=4.5 in c:\\users\\shiro\\anaconda3\\lib\\site-packages (from aiohttp>=3.10.5->opencage) (6.0.4)\n",
      "Requirement already satisfied: yarl<2.0,>=1.0 in c:\\users\\shiro\\anaconda3\\lib\\site-packages (from aiohttp>=3.10.5->opencage) (1.11.0)\n",
      "Requirement already satisfied: async-timeout<5.0,>=4.0 in c:\\users\\shiro\\anaconda3\\lib\\site-packages (from aiohttp>=3.10.5->opencage) (4.0.3)\n",
      "Requirement already satisfied: charset-normalizer<4,>=2 in c:\\users\\shiro\\anaconda3\\lib\\site-packages (from Requests>=2.31.0->opencage) (3.3.2)\n",
      "Requirement already satisfied: idna<4,>=2.5 in c:\\users\\shiro\\anaconda3\\lib\\site-packages (from Requests>=2.31.0->opencage) (3.7)\n",
      "Requirement already satisfied: urllib3<3,>=1.21.1 in c:\\users\\shiro\\anaconda3\\lib\\site-packages (from Requests>=2.31.0->opencage) (1.26.19)\n",
      "Requirement already satisfied: colorama in c:\\users\\shiro\\anaconda3\\lib\\site-packages (from tqdm>=4.66.4->opencage) (0.4.6)\n",
      "Downloading opencage-3.0.3-py3-none-any.whl (22 kB)\n",
      "Downloading backoff-2.2.1-py3-none-any.whl (15 kB)\n",
      "Installing collected packages: backoff, opencage\n",
      "Successfully installed backoff-2.2.1 opencage-3.0.3\n"
     ]
    }
   ],
   "source": [
    "!pip install opencage"
   ]
  }
 ],
 "metadata": {
  "kernelspec": {
   "display_name": "Python 3 (ipykernel)",
   "language": "python",
   "name": "python3"
  },
  "language_info": {
   "codemirror_mode": {
    "name": "ipython",
    "version": 3
   },
   "file_extension": ".py",
   "mimetype": "text/x-python",
   "name": "python",
   "nbconvert_exporter": "python",
   "pygments_lexer": "ipython3",
   "version": "3.9.20"
  }
 },
 "nbformat": 4,
 "nbformat_minor": 5
}
